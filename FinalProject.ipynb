{
 "cells": [
  {
   "cell_type": "markdown",
   "metadata": {},
   "source": [
    "# Bot Tweet/Article Detection System"
   ]
  },
  {
   "cell_type": "markdown",
   "metadata": {},
   "source": [
    "### 1.1 The Topic:\n",
    "\n",
    "Now more than ever with the rise of social media, there has been a massive increase in the spread of false information. The way that this information is spread is through botnets, or basically, fake accounts that are created for the sole purpose of spreading this information.\n",
    "\n",
    "This will be a categorical analysis and will be training a model to detect whether a tweet/news article is fake or real. I might add some numerical analysis if I have time."
   ]
  },
  {
   "cell_type": "markdown",
   "metadata": {},
   "source": [
    "### 1.2 The Data:\n",
    "\n",
    "https://www.kaggle.com/clmentbisaillon/fake-and-real-news-dataset?select=True.csv\n",
    "\n",
    "The data comes from Kaggle. They have two csv's with one being \"True\" or real articles and the other consisting of \"Fake\" articles. I am considering bringing in more data down the road to make it more interesting, but for now, this will due. \n",
    "\n",
    "The csv files consist of ~19,000 rows of data with four columns. The columns are:\n",
    "\"title\" - title of the article\n",
    "\"text\" - an excerpt from the article\n",
    "\"subject\" - basically a categorical showing of what the article is (e.g. world news, government news, etc.)\n",
    "\"date\" - date of the article being published\n",
    "\n",
    "All of the data types are initially in string form."
   ]
  },
  {
   "cell_type": "markdown",
   "metadata": {},
   "source": [
    "### 2. Data Cleaning/EDA:"
   ]
  },
  {
   "cell_type": "code",
   "execution_count": 1,
   "metadata": {},
   "outputs": [],
   "source": [
    "import pandas as pd\n",
    "from sklearn.utils import shuffle\n",
    "import string\n",
    "import matplotlib.pyplot as plt\n",
    "import seaborn as sns\n",
    "import numpy as np"
   ]
  },
  {
   "cell_type": "code",
   "execution_count": 2,
   "metadata": {},
   "outputs": [],
   "source": [
    "#reading the files\n",
    "fake = pd.read_csv(\"Fake.csv\")\n",
    "true = pd.read_csv(\"True.csv\")"
   ]
  },
  {
   "cell_type": "code",
   "execution_count": 3,
   "metadata": {},
   "outputs": [],
   "source": [
    "#adding a column that will show a 0 for fake and 1 for real\n",
    "fake['target'] = 0\n",
    "true['target'] = 1 "
   ]
  },
  {
   "cell_type": "code",
   "execution_count": 4,
   "metadata": {},
   "outputs": [
    {
     "data": {
      "text/html": [
       "<div>\n",
       "<style scoped>\n",
       "    .dataframe tbody tr th:only-of-type {\n",
       "        vertical-align: middle;\n",
       "    }\n",
       "\n",
       "    .dataframe tbody tr th {\n",
       "        vertical-align: top;\n",
       "    }\n",
       "\n",
       "    .dataframe thead th {\n",
       "        text-align: right;\n",
       "    }\n",
       "</style>\n",
       "<table border=\"1\" class=\"dataframe\">\n",
       "  <thead>\n",
       "    <tr style=\"text-align: right;\">\n",
       "      <th></th>\n",
       "      <th>title</th>\n",
       "      <th>text</th>\n",
       "      <th>subject</th>\n",
       "      <th>date</th>\n",
       "      <th>target</th>\n",
       "    </tr>\n",
       "  </thead>\n",
       "  <tbody>\n",
       "    <tr>\n",
       "      <th>0</th>\n",
       "      <td>Donald Trump Sends Out Embarrassing New Year’...</td>\n",
       "      <td>Donald Trump just couldn t wish all Americans ...</td>\n",
       "      <td>News</td>\n",
       "      <td>December 31, 2017</td>\n",
       "      <td>0</td>\n",
       "    </tr>\n",
       "    <tr>\n",
       "      <th>1</th>\n",
       "      <td>Drunk Bragging Trump Staffer Started Russian ...</td>\n",
       "      <td>House Intelligence Committee Chairman Devin Nu...</td>\n",
       "      <td>News</td>\n",
       "      <td>December 31, 2017</td>\n",
       "      <td>0</td>\n",
       "    </tr>\n",
       "    <tr>\n",
       "      <th>2</th>\n",
       "      <td>Sheriff David Clarke Becomes An Internet Joke...</td>\n",
       "      <td>On Friday, it was revealed that former Milwauk...</td>\n",
       "      <td>News</td>\n",
       "      <td>December 30, 2017</td>\n",
       "      <td>0</td>\n",
       "    </tr>\n",
       "    <tr>\n",
       "      <th>3</th>\n",
       "      <td>Trump Is So Obsessed He Even Has Obama’s Name...</td>\n",
       "      <td>On Christmas day, Donald Trump announced that ...</td>\n",
       "      <td>News</td>\n",
       "      <td>December 29, 2017</td>\n",
       "      <td>0</td>\n",
       "    </tr>\n",
       "    <tr>\n",
       "      <th>4</th>\n",
       "      <td>Pope Francis Just Called Out Donald Trump Dur...</td>\n",
       "      <td>Pope Francis used his annual Christmas Day mes...</td>\n",
       "      <td>News</td>\n",
       "      <td>December 25, 2017</td>\n",
       "      <td>0</td>\n",
       "    </tr>\n",
       "  </tbody>\n",
       "</table>\n",
       "</div>"
      ],
      "text/plain": [
       "                                               title  \\\n",
       "0   Donald Trump Sends Out Embarrassing New Year’...   \n",
       "1   Drunk Bragging Trump Staffer Started Russian ...   \n",
       "2   Sheriff David Clarke Becomes An Internet Joke...   \n",
       "3   Trump Is So Obsessed He Even Has Obama’s Name...   \n",
       "4   Pope Francis Just Called Out Donald Trump Dur...   \n",
       "\n",
       "                                                text subject  \\\n",
       "0  Donald Trump just couldn t wish all Americans ...    News   \n",
       "1  House Intelligence Committee Chairman Devin Nu...    News   \n",
       "2  On Friday, it was revealed that former Milwauk...    News   \n",
       "3  On Christmas day, Donald Trump announced that ...    News   \n",
       "4  Pope Francis used his annual Christmas Day mes...    News   \n",
       "\n",
       "                date  target  \n",
       "0  December 31, 2017       0  \n",
       "1  December 31, 2017       0  \n",
       "2  December 30, 2017       0  \n",
       "3  December 29, 2017       0  \n",
       "4  December 25, 2017       0  "
      ]
     },
     "execution_count": 4,
     "metadata": {},
     "output_type": "execute_result"
    }
   ],
   "source": [
    "#putting the files into a single pandas dataframe\n",
    "data = pd.concat([fake, true]).reset_index(drop = True)\n",
    "data.head()"
   ]
  },
  {
   "cell_type": "code",
   "execution_count": 5,
   "metadata": {},
   "outputs": [
    {
     "data": {
      "text/html": [
       "<div>\n",
       "<style scoped>\n",
       "    .dataframe tbody tr th:only-of-type {\n",
       "        vertical-align: middle;\n",
       "    }\n",
       "\n",
       "    .dataframe tbody tr th {\n",
       "        vertical-align: top;\n",
       "    }\n",
       "\n",
       "    .dataframe thead th {\n",
       "        text-align: right;\n",
       "    }\n",
       "</style>\n",
       "<table border=\"1\" class=\"dataframe\">\n",
       "  <thead>\n",
       "    <tr style=\"text-align: right;\">\n",
       "      <th></th>\n",
       "      <th>title</th>\n",
       "      <th>text</th>\n",
       "      <th>subject</th>\n",
       "      <th>date</th>\n",
       "      <th>target</th>\n",
       "    </tr>\n",
       "  </thead>\n",
       "  <tbody>\n",
       "    <tr>\n",
       "      <th>0</th>\n",
       "      <td>Senator Flake: Trump can't win if he can't change</td>\n",
       "      <td>WASHINGTON (Reuters) - U.S. Senator Jeff Flake...</td>\n",
       "      <td>politicsNews</td>\n",
       "      <td>August 9, 2016</td>\n",
       "      <td>1</td>\n",
       "    </tr>\n",
       "    <tr>\n",
       "      <th>1</th>\n",
       "      <td>U.S. judge blocks transgender, abortion-relate...</td>\n",
       "      <td>(Reuters) - A federal judge in Texas on Saturd...</td>\n",
       "      <td>politicsNews</td>\n",
       "      <td>January 1, 2017</td>\n",
       "      <td>1</td>\n",
       "    </tr>\n",
       "    <tr>\n",
       "      <th>2</th>\n",
       "      <td>Former Classmate: Trump Smacked His Son So Ha...</td>\n",
       "      <td>We ve all seen pictures of the Trumps in their...</td>\n",
       "      <td>News</td>\n",
       "      <td>November 4, 2016</td>\n",
       "      <td>0</td>\n",
       "    </tr>\n",
       "    <tr>\n",
       "      <th>3</th>\n",
       "      <td>JUDGE GIVES ‘LEGAL PERSONHOOD’ TO MONKEYS: SHO...</td>\n",
       "      <td>Habeas Corpus for Animals???The  animal person...</td>\n",
       "      <td>Government News</td>\n",
       "      <td>Apr 25, 2015</td>\n",
       "      <td>0</td>\n",
       "    </tr>\n",
       "    <tr>\n",
       "      <th>4</th>\n",
       "      <td>80 YEAR OLD MAN Writes MUST READ Letter To RNC...</td>\n",
       "      <td>This letter was sent to 100% FED Up! by an ano...</td>\n",
       "      <td>politics</td>\n",
       "      <td>Apr 13, 2016</td>\n",
       "      <td>0</td>\n",
       "    </tr>\n",
       "  </tbody>\n",
       "</table>\n",
       "</div>"
      ],
      "text/plain": [
       "                                               title  \\\n",
       "0  Senator Flake: Trump can't win if he can't change   \n",
       "1  U.S. judge blocks transgender, abortion-relate...   \n",
       "2   Former Classmate: Trump Smacked His Son So Ha...   \n",
       "3  JUDGE GIVES ‘LEGAL PERSONHOOD’ TO MONKEYS: SHO...   \n",
       "4  80 YEAR OLD MAN Writes MUST READ Letter To RNC...   \n",
       "\n",
       "                                                text          subject  \\\n",
       "0  WASHINGTON (Reuters) - U.S. Senator Jeff Flake...     politicsNews   \n",
       "1  (Reuters) - A federal judge in Texas on Saturd...     politicsNews   \n",
       "2  We ve all seen pictures of the Trumps in their...             News   \n",
       "3  Habeas Corpus for Animals???The  animal person...  Government News   \n",
       "4  This letter was sent to 100% FED Up! by an ano...         politics   \n",
       "\n",
       "               date  target  \n",
       "0   August 9, 2016        1  \n",
       "1  January 1, 2017        1  \n",
       "2  November 4, 2016       0  \n",
       "3      Apr 25, 2015       0  \n",
       "4      Apr 13, 2016       0  "
      ]
     },
     "execution_count": 5,
     "metadata": {},
     "output_type": "execute_result"
    }
   ],
   "source": [
    "#Shuffling the data to make it where it is not all 0's then all 1's \n",
    "#This helps later on when training the model\n",
    "data = shuffle(data)\n",
    "data = data.reset_index(drop=True)\n",
    "data.head()"
   ]
  },
  {
   "cell_type": "markdown",
   "metadata": {},
   "source": [
    "I will be leaving all of the columns, because they will all be used eventually for different reasons and to possibly find trends beyond the initial scope, but the data in these columns does need to be cleaned."
   ]
  },
  {
   "cell_type": "code",
   "execution_count": 6,
   "metadata": {},
   "outputs": [
    {
     "data": {
      "text/html": [
       "<div>\n",
       "<style scoped>\n",
       "    .dataframe tbody tr th:only-of-type {\n",
       "        vertical-align: middle;\n",
       "    }\n",
       "\n",
       "    .dataframe tbody tr th {\n",
       "        vertical-align: top;\n",
       "    }\n",
       "\n",
       "    .dataframe thead th {\n",
       "        text-align: right;\n",
       "    }\n",
       "</style>\n",
       "<table border=\"1\" class=\"dataframe\">\n",
       "  <thead>\n",
       "    <tr style=\"text-align: right;\">\n",
       "      <th></th>\n",
       "      <th>title</th>\n",
       "      <th>text</th>\n",
       "      <th>subject</th>\n",
       "      <th>date</th>\n",
       "      <th>target</th>\n",
       "    </tr>\n",
       "  </thead>\n",
       "  <tbody>\n",
       "    <tr>\n",
       "      <th>0</th>\n",
       "      <td>senator flake: trump can't win if he can't change</td>\n",
       "      <td>washington (reuters) - u.s. senator jeff flake...</td>\n",
       "      <td>politicsnews</td>\n",
       "      <td>August 9, 2016</td>\n",
       "      <td>1</td>\n",
       "    </tr>\n",
       "    <tr>\n",
       "      <th>1</th>\n",
       "      <td>u.s. judge blocks transgender, abortion-relate...</td>\n",
       "      <td>(reuters) - a federal judge in texas on saturd...</td>\n",
       "      <td>politicsnews</td>\n",
       "      <td>January 1, 2017</td>\n",
       "      <td>1</td>\n",
       "    </tr>\n",
       "    <tr>\n",
       "      <th>2</th>\n",
       "      <td>former classmate: trump smacked his son so ha...</td>\n",
       "      <td>we ve all seen pictures of the trumps in their...</td>\n",
       "      <td>news</td>\n",
       "      <td>November 4, 2016</td>\n",
       "      <td>0</td>\n",
       "    </tr>\n",
       "    <tr>\n",
       "      <th>3</th>\n",
       "      <td>judge gives ‘legal personhood’ to monkeys: sho...</td>\n",
       "      <td>habeas corpus for animals???the  animal person...</td>\n",
       "      <td>government news</td>\n",
       "      <td>Apr 25, 2015</td>\n",
       "      <td>0</td>\n",
       "    </tr>\n",
       "    <tr>\n",
       "      <th>4</th>\n",
       "      <td>80 year old man writes must read letter to rnc...</td>\n",
       "      <td>this letter was sent to 100% fed up! by an ano...</td>\n",
       "      <td>politics</td>\n",
       "      <td>Apr 13, 2016</td>\n",
       "      <td>0</td>\n",
       "    </tr>\n",
       "  </tbody>\n",
       "</table>\n",
       "</div>"
      ],
      "text/plain": [
       "                                               title  \\\n",
       "0  senator flake: trump can't win if he can't change   \n",
       "1  u.s. judge blocks transgender, abortion-relate...   \n",
       "2   former classmate: trump smacked his son so ha...   \n",
       "3  judge gives ‘legal personhood’ to monkeys: sho...   \n",
       "4  80 year old man writes must read letter to rnc...   \n",
       "\n",
       "                                                text          subject  \\\n",
       "0  washington (reuters) - u.s. senator jeff flake...     politicsnews   \n",
       "1  (reuters) - a federal judge in texas on saturd...     politicsnews   \n",
       "2  we ve all seen pictures of the trumps in their...             news   \n",
       "3  habeas corpus for animals???the  animal person...  government news   \n",
       "4  this letter was sent to 100% fed up! by an ano...         politics   \n",
       "\n",
       "               date  target  \n",
       "0   August 9, 2016        1  \n",
       "1  January 1, 2017        1  \n",
       "2  November 4, 2016       0  \n",
       "3      Apr 25, 2015       0  \n",
       "4      Apr 13, 2016       0  "
      ]
     },
     "execution_count": 6,
     "metadata": {},
     "output_type": "execute_result"
    }
   ],
   "source": [
    "#Making all of the data lowercase for easier comparison\n",
    "data['text'] = data['text'].apply(lambda x: x.lower())\n",
    "data['title'] = data['title'].apply(lambda x: x.lower())\n",
    "data['subject'] = data['subject'].apply(lambda x: x.lower())\n",
    "data.head()"
   ]
  },
  {
   "cell_type": "code",
   "execution_count": 20,
   "metadata": {},
   "outputs": [
    {
     "data": {
      "text/html": [
       "<div>\n",
       "<style scoped>\n",
       "    .dataframe tbody tr th:only-of-type {\n",
       "        vertical-align: middle;\n",
       "    }\n",
       "\n",
       "    .dataframe tbody tr th {\n",
       "        vertical-align: top;\n",
       "    }\n",
       "\n",
       "    .dataframe thead th {\n",
       "        text-align: right;\n",
       "    }\n",
       "</style>\n",
       "<table border=\"1\" class=\"dataframe\">\n",
       "  <thead>\n",
       "    <tr style=\"text-align: right;\">\n",
       "      <th></th>\n",
       "      <th>title</th>\n",
       "      <th>text</th>\n",
       "      <th>subject</th>\n",
       "      <th>date</th>\n",
       "      <th>target</th>\n",
       "    </tr>\n",
       "  </thead>\n",
       "  <tbody>\n",
       "    <tr>\n",
       "      <th>0</th>\n",
       "      <td>senator flake trump cant win if he cant change</td>\n",
       "      <td>washington reuters  us senator jeff flake said...</td>\n",
       "      <td>politics</td>\n",
       "      <td>August 9, 2016</td>\n",
       "      <td>1</td>\n",
       "    </tr>\n",
       "    <tr>\n",
       "      <th>1</th>\n",
       "      <td>us judge blocks transgender abortionrelated ob...</td>\n",
       "      <td>reuters  a federal judge in texas on saturday ...</td>\n",
       "      <td>politics</td>\n",
       "      <td>January 1, 2017</td>\n",
       "      <td>1</td>\n",
       "    </tr>\n",
       "    <tr>\n",
       "      <th>2</th>\n",
       "      <td>former classmate trump smacked his son so har...</td>\n",
       "      <td>we ve all seen pictures of the trumps in their...</td>\n",
       "      <td>news</td>\n",
       "      <td>November 4, 2016</td>\n",
       "      <td>0</td>\n",
       "    </tr>\n",
       "    <tr>\n",
       "      <th>3</th>\n",
       "      <td>judge gives ‘legal personhood’ to monkeys shou...</td>\n",
       "      <td>habeas corpus for animalsthe  animal personhoo...</td>\n",
       "      <td>government news</td>\n",
       "      <td>Apr 25, 2015</td>\n",
       "      <td>0</td>\n",
       "    </tr>\n",
       "    <tr>\n",
       "      <th>4</th>\n",
       "      <td>80 year old man writes must read letter to rnc...</td>\n",
       "      <td>this letter was sent to 100 fed up by an anony...</td>\n",
       "      <td>politics</td>\n",
       "      <td>Apr 13, 2016</td>\n",
       "      <td>0</td>\n",
       "    </tr>\n",
       "  </tbody>\n",
       "</table>\n",
       "</div>"
      ],
      "text/plain": [
       "                                               title  \\\n",
       "0     senator flake trump cant win if he cant change   \n",
       "1  us judge blocks transgender abortionrelated ob...   \n",
       "2   former classmate trump smacked his son so har...   \n",
       "3  judge gives ‘legal personhood’ to monkeys shou...   \n",
       "4  80 year old man writes must read letter to rnc...   \n",
       "\n",
       "                                                text          subject  \\\n",
       "0  washington reuters  us senator jeff flake said...         politics   \n",
       "1  reuters  a federal judge in texas on saturday ...         politics   \n",
       "2  we ve all seen pictures of the trumps in their...             news   \n",
       "3  habeas corpus for animalsthe  animal personhoo...  government news   \n",
       "4  this letter was sent to 100 fed up by an anony...         politics   \n",
       "\n",
       "               date  target  \n",
       "0   August 9, 2016        1  \n",
       "1  January 1, 2017        1  \n",
       "2  November 4, 2016       0  \n",
       "3      Apr 25, 2015       0  \n",
       "4      Apr 13, 2016       0  "
      ]
     },
     "execution_count": 20,
     "metadata": {},
     "output_type": "execute_result"
    }
   ],
   "source": [
    "#This function is to get rid of punctuation. \n",
    "#We will do analysis on the data when punctuation is included, because it can be an indicator\n",
    "#But early on, we will focus on the grammar and spelling\n",
    "#Notice below that quotes will be left in due to the common use of false quotes/misinterpreted quotes\n",
    "def rem_punc(text):\n",
    "    all_list = [char for char in text if char not in string.punctuation]\n",
    "    clean = ''.join(all_list)\n",
    "    return clean\n",
    "data['text'] = data['text'].apply(rem_punc)\n",
    "data['title'] = data['title'].apply(rem_punc)\n",
    "data.head()"
   ]
  },
  {
   "cell_type": "markdown",
   "metadata": {},
   "source": [
    "### 2. Data Exploration\n",
    "In the data exploration, we view the data in a couple different ways to make sure there aren't any factors that causing the data to be heavily biased/erroneous."
   ]
  },
  {
   "cell_type": "code",
   "execution_count": 8,
   "metadata": {},
   "outputs": [
    {
     "name": "stdout",
     "output_type": "stream",
     "text": [
      "target\n",
      "0    23481\n",
      "1    21417\n",
      "Name: text, dtype: int64\n"
     ]
    },
    {
     "data": {
      "image/png": "[encoded data removed]",
      "text/plain": [
       "<Figure size 432x288 with 1 Axes>"
      ]
     },
     "metadata": {
      "needs_background": "light"
     },
     "output_type": "display_data"
    }
   ],
   "source": [
    "print(data.groupby(['target'])['text'].count())\n",
    "data.groupby(['target'])['text'].count().plot(kind=\"bar\")\n",
    "plt.show()"
   ]
  },
  {
   "cell_type": "code",
   "execution_count": 21,
   "metadata": {},
   "outputs": [
    {
     "name": "stdout",
     "output_type": "stream",
     "text": [
      "subject\n",
      "government news     1570\n",
      "middle-east          778\n",
      "news                9050\n",
      "politics           18113\n",
      "us_news              783\n",
      "worldnews          10145\n",
      "Name: text, dtype: int64\n"
     ]
    },
    {
     "data": {
      "image/png": "[encoded data removed]",
      "text/plain": [
       "<Figure size 432x288 with 1 Axes>"
      ]
     },
     "metadata": {
      "needs_background": "light"
     },
     "output_type": "display_data"
    }
   ],
   "source": [
    "print(data.groupby(['subject'])['text'].count())\n",
    "data.groupby(['subject'])['text'].count().plot(kind=\"bar\")\n",
    "plt.show()"
   ]
  },
  {
   "cell_type": "markdown",
   "metadata": {},
   "source": [
    "Above, we are able to see that there are politics and politicsnews, which are the same, so we will change the politicsnews to just politics\n",
    "We also know that in politics, there are left-wing and right-wing news media outlets. Due to this, \n",
    "we can't distinguish any important information without a right-wing news subject, so we will just go ahead and drop those"
   ]
  },
  {
   "cell_type": "code",
   "execution_count": 10,
   "metadata": {},
   "outputs": [
    {
     "name": "stdout",
     "output_type": "stream",
     "text": [
      "subject\n",
      "government news     1570\n",
      "middle-east          778\n",
      "news                9050\n",
      "politics           18113\n",
      "us_news              783\n",
      "worldnews          10145\n",
      "Name: text, dtype: int64\n"
     ]
    },
    {
     "data": {
      "image/png": "[encoded data removed]",
      "text/plain": [
       "<Figure size 432x288 with 1 Axes>"
      ]
     },
     "metadata": {
      "needs_background": "light"
     },
     "output_type": "display_data"
    }
   ],
   "source": [
    "\n",
    "data['subject'] = data['subject'].str.replace('politicsnews','politics')\n",
    "data = data[data.subject != \"left-news\"]\n",
    "print(data.groupby(['subject'])['text'].count())\n",
    "data.groupby(['subject'])['text'].count().plot(kind=\"bar\")\n",
    "plt.show()"
   ]
  },
  {
   "cell_type": "markdown",
   "metadata": {},
   "source": [
    "Since we have cleaned the data and values have changed, I will briefly show all the same graphs in order again for updated information. Below, you can see the updated graphs. \n",
    "\n",
    "The first graph is important, because it shows how much of the data is true and how much is false. This gives a baseline to keep us honest and make sure the data isn't heavily skewed one way or the other in the beginning.\n",
    "\n",
    "The second graph shows the distribution among sources. Obviously, politics is a significant contribution to this dataset. This will have to be taken into account when trying to find where the botnets are.\n",
    "\n",
    "The second one shows where some problems can arise while looking, so we will have to take the percentage of fake and real articles based off of each industries total, rather than the overall total when viewing the sources.\n",
    " "
   ]
  },
  {
   "cell_type": "code",
   "execution_count": 11,
   "metadata": {},
   "outputs": [
    {
     "name": "stdout",
     "output_type": "stream",
     "text": [
      "target\n",
      "0    19022\n",
      "1    21417\n",
      "Name: text, dtype: int64\n"
     ]
    },
    {
     "data": {
      "image/png": "[encoded data removed]",
      "text/plain": [
       "<Figure size 432x288 with 1 Axes>"
      ]
     },
     "metadata": {
      "needs_background": "light"
     },
     "output_type": "display_data"
    },
    {
     "name": "stdout",
     "output_type": "stream",
     "text": [
      "subject\n",
      "government news     1570\n",
      "middle-east          778\n",
      "news                9050\n",
      "politics           18113\n",
      "us_news              783\n",
      "worldnews          10145\n",
      "Name: text, dtype: int64\n"
     ]
    },
    {
     "data": {
      "image/png": "[encoded data removed]",
      "text/plain": [
       "<Figure size 432x288 with 1 Axes>"
      ]
     },
     "metadata": {
      "needs_background": "light"
     },
     "output_type": "display_data"
    },
    {
     "name": "stdout",
     "output_type": "stream",
     "text": [
      "subject\n",
      "government news     1570\n",
      "middle-east          778\n",
      "news                9050\n",
      "politics           18113\n",
      "us_news              783\n",
      "worldnews          10145\n",
      "Name: text, dtype: int64\n"
     ]
    },
    {
     "data": {
      "image/png": "[encoded data removed]",
      "text/plain": [
       "<Figure size 432x288 with 1 Axes>"
      ]
     },
     "metadata": {
      "needs_background": "light"
     },
     "output_type": "display_data"
    }
   ],
   "source": [
    "print(data.groupby(['target'])['text'].count())\n",
    "data.groupby(['target'])['text'].count().plot(kind=\"bar\")\n",
    "plt.show()\n",
    "\n",
    "print(data.groupby(['subject'])['text'].count())\n",
    "data.groupby(['subject'])['text'].count().plot(kind=\"bar\")\n",
    "plt.show()\n",
    "\n",
    "print(data.groupby(['subject'])['text'].count())\n",
    "data.groupby(['subject'])['text'].count().plot(kind=\"bar\")\n",
    "plt.show()"
   ]
  },
  {
   "cell_type": "markdown",
   "metadata": {},
   "source": [
    "### 4. Model Approach\n",
    "\n",
    "I will be detecting the most common terms from the \"text\" and seeing if it is a fake or real article, then placing the information I obtain into a classification model. I will also be using some logistic regression to determine how accurate the model ends up being.\n",
    "\n",
    "Some of the issues will come from splitting the data properly for the model, because of the key words possibly having very even splits between fake and real articles. The other main issue that can't really be fixed without many hours of searching is, if the data is actually accurate in what is fake and real."
   ]
  },
  {
   "cell_type": "code",
   "execution_count": 12,
   "metadata": {},
   "outputs": [],
   "source": [
    "# I got the function to plot the confusion matrix from https://scikit-learn.org/stable/auto_examples/model_selection/plot_confusion_matrix.html\n",
    "from sklearn import metrics\n",
    "import itertools\n",
    "from sklearn.model_selection import train_test_split\n",
    "def plot_confusion_matrix(cm, classes,\n",
    "                          normalize=False,\n",
    "                          title='Confusion matrix',\n",
    "  \n",
    "\n",
    "                        cmap=plt.cm.Blues):\n",
    "    \n",
    "    plt.imshow(cm, interpolation='nearest', cmap=cmap)\n",
    "    plt.title(title)\n",
    "    plt.colorbar()\n",
    "    tick_marks = np.arange(len(classes))\n",
    "    plt.xticks(tick_marks, classes, rotation=45)\n",
    "    plt.yticks(tick_marks, classes)\n",
    "    if normalize:\n",
    "        cm = cm.astype('float') / cm.sum(axis=1)[:, np.newaxis]\n",
    "        print(\"Normalized confusion matrix\")\n",
    "    else:\n",
    "        print('Confusion matrix, without normalization')\n",
    "    thresh = cm.max() / 2.\n",
    "    for i, j in itertools.product(range(cm.shape[0]), range(cm.shape[1])):\n",
    "        plt.text(j, i, cm[i, j],\n",
    "                 horizontalalignment=\"center\",\n",
    "                 color=\"white\" if cm[i, j] > thresh else \"black\")\n",
    "    plt.tight_layout()\n",
    "    plt.ylabel('True label')\n",
    "    plt.xlabel('Predicted label')"
   ]
  },
  {
   "cell_type": "code",
   "execution_count": 13,
   "metadata": {},
   "outputs": [],
   "source": [
    "X_train,X_test,y_train,y_test = train_test_split(data['text'], data.target, test_size=0.2, random_state=42)"
   ]
  },
  {
   "cell_type": "code",
   "execution_count": 14,
   "metadata": {},
   "outputs": [
    {
     "name": "stdout",
     "output_type": "stream",
     "text": [
      "accuracy: 98.66%\n"
     ]
    }
   ],
   "source": [
    "# Vectorizing and applying TF-IDF\n",
    "from sklearn.linear_model import LogisticRegression\n",
    "from sklearn.pipeline import Pipeline\n",
    "from sklearn.feature_extraction.text import CountVectorizer\n",
    "from sklearn.feature_extraction.text import TfidfTransformer\n",
    "from sklearn.metrics import accuracy_score\n",
    "\n",
    "pipe = Pipeline([('vect', CountVectorizer()),\n",
    "                 ('tfidf', TfidfTransformer()),\n",
    "                 ('model', LogisticRegression())])\n",
    "# Fitting the model\n",
    "model = pipe.fit(X_train, y_train)\n",
    "# Accuracy\n",
    "prediction = model.predict(X_test)\n",
    "print(\"accuracy: {}%\".format(round(accuracy_score(y_test, prediction)*100,2)))"
   ]
  },
  {
   "cell_type": "code",
   "execution_count": 15,
   "metadata": {},
   "outputs": [
    {
     "name": "stdout",
     "output_type": "stream",
     "text": [
      "Confusion matrix, without normalization\n"
     ]
    },
    {
     "data": {
      "image/png": "[encoded data removed]",
      "text/plain": [
       "<Figure size 432x288 with 2 Axes>"
      ]
     },
     "metadata": {
      "needs_background": "light"
     },
     "output_type": "display_data"
    }
   ],
   "source": [
    "cm = metrics.confusion_matrix(y_test, prediction)\n",
    "plot_confusion_matrix(cm, classes=['Fake', 'Real'])"
   ]
  },
  {
   "cell_type": "code",
   "execution_count": 16,
   "metadata": {},
   "outputs": [
    {
     "name": "stdout",
     "output_type": "stream",
     "text": [
      "accuracy: 99.62%\n"
     ]
    }
   ],
   "source": [
    "from sklearn.tree import DecisionTreeClassifier\n",
    "# Vectorizing and applying TF-IDF\n",
    "pipe = Pipeline([('vect', CountVectorizer()),\n",
    "                 ('tfidf', TfidfTransformer()),\n",
    "                 ('model', DecisionTreeClassifier(criterion= 'entropy',\n",
    "                                           max_depth = 20, \n",
    "                                           splitter='best', \n",
    "                                           random_state=42))])\n",
    "# Fitting the model\n",
    "model = pipe.fit(X_train, y_train)\n",
    "# Accuracy\n",
    "prediction = model.predict(X_test)\n",
    "print(\"accuracy: {}%\".format(round(accuracy_score(y_test, prediction)*100,2)))"
   ]
  },
  {
   "cell_type": "code",
   "execution_count": 17,
   "metadata": {},
   "outputs": [
    {
     "name": "stdout",
     "output_type": "stream",
     "text": [
      "Confusion matrix, without normalization\n"
     ]
    },
    {
     "data": {
      "image/png": "[encoded data removed]",
      "text/plain": [
       "<Figure size 432x288 with 2 Axes>"
      ]
     },
     "metadata": {
      "needs_background": "light"
     },
     "output_type": "display_data"
    }
   ],
   "source": [
    "cm = metrics.confusion_matrix(y_test, prediction)\n",
    "plot_confusion_matrix(cm, classes=['Fake', 'Real'])"
   ]
  },
  {
   "cell_type": "code",
   "execution_count": 18,
   "metadata": {},
   "outputs": [
    {
     "name": "stdout",
     "output_type": "stream",
     "text": [
      "accuracy: 97.66%\n"
     ]
    }
   ],
   "source": [
    "from sklearn.ensemble import RandomForestClassifier\n",
    "pipe = Pipeline([('vect', CountVectorizer()),\n",
    "                 ('tfidf', TfidfTransformer()),\n",
    "                 ('model', RandomForestClassifier(n_estimators=50, criterion=\"entropy\"))])\n",
    "model = pipe.fit(X_train, y_train)\n",
    "prediction = model.predict(X_test)\n",
    "print(\"accuracy: {}%\".format(round(accuracy_score(y_test, prediction)*100,2)))"
   ]
  },
  {
   "cell_type": "code",
   "execution_count": 19,
   "metadata": {},
   "outputs": [
    {
     "name": "stdout",
     "output_type": "stream",
     "text": [
      "Confusion matrix, without normalization\n"
     ]
    },
    {
     "data": {
      "image/png": "[encoded data removed]",
      "text/plain": [
       "<Figure size 432x288 with 2 Axes>"
      ]
     },
     "metadata": {
      "needs_background": "light"
     },
     "output_type": "display_data"
    }
   ],
   "source": [
    "cm = metrics.confusion_matrix(y_test, prediction)\n",
    "plot_confusion_matrix(cm, classes=['Fake', 'Real'])"
   ]
  },
  {
   "cell_type": "markdown",
   "metadata": {},
   "source": [
    "The three models that I ended up using were logistic regression, Decision Tree Classifier and a Random Forest Classifier. You may not have heard of the last two, because they are not from the class:\n",
    "-The Decision Tree Classifier is a model that predicts the value of a target variable by learning simple decision rules\n",
    "-The Random Forest Classifier is a model that more or less creates a multitude of decision trees during training then taking the average prediction of the individual trees as its output. This style may sound similar to something you have seen before, because it essentially the same idea as bootstrapping data.\n",
    "\n",
    "The code for all of the different models turned out to be very accurate with the Decision Tree Classifier being the best at 99.62%. This is a highly impressive accuracy and means we would be able to spot what is real and what is fake over 99/100 times. "
   ]
  },
  {
   "cell_type": "code",
   "execution_count": null,
   "metadata": {},
   "outputs": [],
   "source": []
  }
 ],
 "metadata": {
  "kernelspec": {
   "display_name": "Python 3",
   "language": "python",
   "name": "python3"
  },
  "language_info": {
   "codemirror_mode": {
    "name": "ipython",
    "version": 3
   },
   "file_extension": ".py",
   "mimetype": "text/x-python",
   "name": "python",
   "nbconvert_exporter": "python",
   "pygments_lexer": "ipython3",
   "version": "3.8.6"
  }
 },
 "nbformat": 4,
 "nbformat_minor": 4
}
